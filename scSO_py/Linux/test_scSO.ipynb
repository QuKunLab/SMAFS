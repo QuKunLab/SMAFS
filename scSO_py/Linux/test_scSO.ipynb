{
 "cells": [
  {
   "cell_type": "code",
   "execution_count": null,
   "metadata": {},
   "outputs": [],
   "source": [
    "import scSO as ss\n",
    "import numpy as np\n",
    "import time"
   ]
  },
  {
   "source": [
    "# Initialize the object of scSO and read the scRNA-seq data\n",
    "\n",
    "test1 = ss.scSO()\n",
    "data_name = \"biase.csv\"\n",
    "test1.read_data(data_path=\"../../test/\"+data_name)\n",
    "print(np.shape(test1.Data))"
   ],
   "cell_type": "code",
   "metadata": {},
   "execution_count": null,
   "outputs": []
  },
  {
   "cell_type": "code",
   "execution_count": null,
   "metadata": {},
   "outputs": [],
   "source": [
    "# Filter genes and normalization\n",
    "\n",
    "test1.filter_genes(bound_low=0.1, bound_up=8.5)\n",
    "test1.LogNormalize()\n"
   ]
  },
  {
   "cell_type": "code",
   "execution_count": null,
   "metadata": {},
   "outputs": [],
   "source": [
    "# Perform SNMF dimensionality reduction\n",
    "\n",
    "test1.scSO_SNMF()"
   ]
  },
  {
   "cell_type": "code",
   "execution_count": null,
   "metadata": {},
   "outputs": [],
   "source": [
    "# Fit the distribuction of cells by Gaussian Mixture Model\n",
    "\n",
    "test1.GMM_fit_and_calcu_0Space()"
   ]
  },
  {
   "cell_type": "code",
   "execution_count": null,
   "metadata": {},
   "outputs": [],
   "source": [
    "# Clustering by the spectral method based on L0 optimization\n",
    "\n",
    "y = test1.Cluster_func(Lambda=0.12)"
   ]
  },
  {
   "cell_type": "code",
   "execution_count": null,
   "metadata": {},
   "outputs": [],
   "source": [
    "# Test clustering results\n",
    "\n",
    "from sklearn import metrics\n",
    "import pandas as pd\n",
    "labels_true =  pd.read_csv(filepath_or_buffer=\"../../figure2/ref/\"+data_name,\n",
    "                                sep=',',\n",
    "                                header=None,\n",
    "                                index_col=None).values\n",
    "print(len(np.unique(y)))\n",
    "metrics.adjusted_rand_score(labels_true[:,0], y)"
   ]
  },
  {
   "cell_type": "code",
   "execution_count": null,
   "metadata": {},
   "outputs": [],
   "source": []
  }
 ],
 "metadata": {
  "kernelspec": {
   "name": "python3",
   "display_name": "Python 3.8.6 64-bit ('env')",
   "metadata": {
    "interpreter": {
     "hash": "b162d77f3272e028a16261c0b48b7ff612254b3ac17927c071e6a1bffe4fbbe8"
    }
   }
  },
  "language_info": {
   "codemirror_mode": {
    "name": "ipython",
    "version": 3
   },
   "file_extension": ".py",
   "mimetype": "text/x-python",
   "name": "python",
   "nbconvert_exporter": "python",
   "pygments_lexer": "ipython3",
   "version": "3.8.6-final"
  }
 },
 "nbformat": 4,
 "nbformat_minor": 2
}